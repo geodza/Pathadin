{
 "cells": [
  {
   "cell_type": "code",
   "execution_count": 1,
   "metadata": {},
   "outputs": [],
   "source": [
    "import sys, pathlib"
   ]
  },
  {
   "cell_type": "code",
   "execution_count": 2,
   "metadata": {},
   "outputs": [
    {
     "name": "stdout",
     "output_type": "stream",
     "text": [
      "D:\\dieyepy\\src\\main\\python\n"
     ]
    }
   ],
   "source": [
    "print(pathlib.Path('..\\..').resolve())"
   ]
  },
  {
   "cell_type": "code",
   "execution_count": 3,
   "metadata": {},
   "outputs": [
    {
     "name": "stdout",
     "output_type": "stream",
     "text": [
      "['d:\\\\dieyepy\\\\venv\\\\scripts\\\\python36.zip', 'C:\\\\Users\\\\User\\\\AppData\\\\Local\\\\Programs\\\\Python\\\\Python36\\\\DLLs', 'C:\\\\Users\\\\User\\\\AppData\\\\Local\\\\Programs\\\\Python\\\\Python36\\\\lib', 'C:\\\\Users\\\\User\\\\AppData\\\\Local\\\\Programs\\\\Python\\\\Python36', 'd:\\\\dieyepy\\\\venv', '', 'd:\\\\dieyepy\\\\venv\\\\lib\\\\site-packages', 'd:\\\\projects\\\\histomicstk', 'd:\\\\dieyepy\\\\venv\\\\lib\\\\site-packages\\\\win32', 'd:\\\\dieyepy\\\\venv\\\\lib\\\\site-packages\\\\win32\\\\lib', 'd:\\\\dieyepy\\\\venv\\\\lib\\\\site-packages\\\\Pythonwin', 'd:\\\\dieyepy\\\\venv\\\\lib\\\\site-packages\\\\IPython\\\\extensions', 'C:\\\\Users\\\\User\\\\.ipython', 'D:\\\\dieyepy\\\\src\\\\main\\\\python']\n"
     ]
    }
   ],
   "source": [
    "sys.path.append(str(pathlib.Path('..\\..').resolve()))\n",
    "# print(sys.path)"
   ]
  },
  {
   "cell_type": "code",
   "execution_count": 4,
   "metadata": {
    "pycharm": {
     "name": "#%%\n"
    }
   },
   "outputs": [],
   "source": [
    "from ndarray_persist.ndarray_persist_utils import save_named_ndarrays\n",
    "from slice.generator.response.patch_response_generator import PatchResponseGenerator\n",
    "from slice.model.patch_image_config import PatchImageConfig\n",
    "from slice.model.patch_image_source_config import PatchImageSourceConfig\n",
    "from slice.patch_response_utils import collect_responses_to_named_ndarrays"
   ]
  },
  {
   "cell_type": "code",
   "execution_count": null,
   "metadata": {},
   "outputs": [],
   "source": [
    "# \n",
    "level = 2\n",
    "grid_length_0level = 128\n",
    "grid_length = grid_length_0level * (level) ** 2\n",
    "stride = grid_length / 2"
   ]
  },
  {
   "cell_type": "code",
   "execution_count": null,
   "metadata": {},
   "outputs": [],
   "source": [
    "# There are several use-cases for slicing slides.\n",
    "# 1) Do not generate patch_label_images but generate just patch_slide_images.\n",
    "#    It can be useful when you want:\n",
    "#    1.1) label patches manually in some graphics editor\n",
    "#    1.2) label patches with your custom script\n",
    "# 2) Generating patch_label_images together with generating patch_slide_images. Where\n",
    "#    a) patch_label_image is a result of drawing annotation with label color stored in annotation\n",
    "#    b) patch_slide_image is just a corresponding region from the same slide\n",
    "# 3) Generate patch_label_images together with generating patch_slide_images. Where\n",
    "#    a) patch_label_image is a region from some specifically stained slide\n",
    "#    b) patch_slide_image is the same region from (possibly a bit shifted) corresponding H&E slide"
   ]
  },
  {
   "cell_type": "code",
   "execution_count": null,
   "metadata": {},
   "outputs": [],
   "source": [
    "# Here we will consider the use-case 2.\n",
    "# "
   ]
  },
  {
   "cell_type": "code",
   "execution_count": null,
   "metadata": {},
   "outputs": [],
   "source": [
    "# There are 2 types of config: PatchImageSourceConfig, PatchImageConfig.\n",
    "# PatchImageSourceConfig defines params for generating patches from slide.\n",
    "# It is named \"source\" because it initiates data-flow patch_pos->patch_geometry->patch_label_image.\n",
    "# Different hooks can be placed in this data-flow such that irrelevant \n",
    "# and uninteresting positions/resulting label images will be filtered out.\n",
    "# At this moment PatchResponseGenerator use such hooks that \n",
    "# it skips patch geometry if it doesn't fully contained by some roi annotation.\n",
    "# You can add your hooks to this flow. For example you can add hook to filter out patch label images\n",
    "# that are uninteresting in sense of class distribution. For example you may don't want fully white or\n",
    "# fully black resuting label images but want only label image containing both classes.\n",
    "# \n",
    "# Grid positions and label images can be filtered out in data-flow so \n",
    "# only after generating patch_label_image and confirming it as \"interesting\"(means not filtering it out)\n",
    "# it make sense to generate corresponding patch_slide_image.\n",
    "# It means that process of generating patch_slide_images depends on process \n",
    "# of generating patch_label_images. This dependence is represented with attribute \n",
    "# \"dependents\" in PatchImageSourceConfig."
   ]
  },
  {
   "cell_type": "code",
   "execution_count": null,
   "metadata": {},
   "outputs": [],
   "source": [
    "configs = [\n",
    "#     config for source of patches\n",
    "    PatchImageSourceConfig(\n",
    "#         \n",
    "        r\"D:\\temp\\slides\\slide1.mrxs\",\n",
    "        level,\n",
    "        r\"D:\\temp\\slides\\slide1_annotations.json\",\n",
    "        metadata={\"name\": \"label\"}, \n",
    "        grid_length=grid_length, \n",
    "        stride=stride,\n",
    "        dependents=[\n",
    "            PatchImageConfig(\n",
    "                r\"D:\\temp\\slides\\slide1.mrxs\",\n",
    "                level,\n",
    "                metadata={\"name\": \"image\"}\n",
    "            )\n",
    "        ]\n",
    "    ),\n",
    "    PatchImageSourceConfig(r\"D:\\temp\\slides\\slide5.mrxs\",\n",
    "                           level,\n",
    "                           r\"D:\\temp\\slides\\slide5_annotations.json\",\n",
    "                           metadata={\"name\": \"label\"}, grid_length=grid_length, stride=stride,\n",
    "                           dependents=[\n",
    "                               PatchImageConfig(r\"D:\\temp\\slides\\slide5.mrxs\",\n",
    "                                                level, metadata={\"name\": \"image\"}),\n",
    "                           ]),\n",
    "]"
   ]
  },
  {
   "cell_type": "code",
   "execution_count": null,
   "metadata": {},
   "outputs": [],
   "source": []
  },
  {
   "cell_type": "code",
   "execution_count": 7,
   "metadata": {},
   "outputs": [
    {
     "ename": "ModuleNotFoundError",
     "evalue": "No module named 'ndarray_persist'",
     "output_type": "error",
     "traceback": [
      "\u001b[1;31m---------------------------------------------------------------------------\u001b[0m",
      "\u001b[1;31mModuleNotFoundError\u001b[0m                       Traceback (most recent call last)",
      "\u001b[1;32m<ipython-input-7-015b291c3dd3>\u001b[0m in \u001b[0;36m<module>\u001b[1;34m\u001b[0m\n\u001b[1;32m----> 1\u001b[1;33m \u001b[1;32mfrom\u001b[0m \u001b[0mndarray_persist\u001b[0m\u001b[1;33m.\u001b[0m\u001b[0mndarray_persist_utils\u001b[0m \u001b[1;32mimport\u001b[0m \u001b[0msave_named_ndarrays\u001b[0m\u001b[1;33m\u001b[0m\u001b[1;33m\u001b[0m\u001b[0m\n\u001b[0m\u001b[0;32m      2\u001b[0m \u001b[1;32mfrom\u001b[0m \u001b[0mslice\u001b[0m\u001b[1;33m.\u001b[0m\u001b[0mgenerator\u001b[0m\u001b[1;33m.\u001b[0m\u001b[0mresponse\u001b[0m\u001b[1;33m.\u001b[0m\u001b[0mpatch_response_generator\u001b[0m \u001b[1;32mimport\u001b[0m \u001b[0mPatchResponseGenerator\u001b[0m\u001b[1;33m\u001b[0m\u001b[1;33m\u001b[0m\u001b[0m\n\u001b[0;32m      3\u001b[0m \u001b[1;32mfrom\u001b[0m \u001b[0mslice\u001b[0m\u001b[1;33m.\u001b[0m\u001b[0mmodel\u001b[0m\u001b[1;33m.\u001b[0m\u001b[0mpatch_image_config\u001b[0m \u001b[1;32mimport\u001b[0m \u001b[0mPatchImageConfig\u001b[0m\u001b[1;33m\u001b[0m\u001b[1;33m\u001b[0m\u001b[0m\n\u001b[0;32m      4\u001b[0m \u001b[1;32mfrom\u001b[0m \u001b[0mslice\u001b[0m\u001b[1;33m.\u001b[0m\u001b[0mmodel\u001b[0m\u001b[1;33m.\u001b[0m\u001b[0mpatch_image_source_config\u001b[0m \u001b[1;32mimport\u001b[0m \u001b[0mPatchImageSourceConfig\u001b[0m\u001b[1;33m\u001b[0m\u001b[1;33m\u001b[0m\u001b[0m\n\u001b[0;32m      5\u001b[0m \u001b[1;32mfrom\u001b[0m \u001b[0mslice\u001b[0m\u001b[1;33m.\u001b[0m\u001b[0mpatch_response_utils\u001b[0m \u001b[1;32mimport\u001b[0m \u001b[0mcollect_responses_to_named_ndarrays\u001b[0m\u001b[1;33m\u001b[0m\u001b[1;33m\u001b[0m\u001b[0m\n",
      "\u001b[1;31mModuleNotFoundError\u001b[0m: No module named 'ndarray_persist'"
     ]
    }
   ],
   "source": [
    "patch_responses = PatchResponseGenerator().create(configs)\n",
    "format_str = r\"{cfg.slide_path}/{cfg.level}/{cfg.grid_length}/{cfg.metadata[name]}/({pos[0]},{pos[1]})_{cfg.level}_{cfg.metadata[name]}\"\n",
    "named_ndarrays = collect_responses_to_named_ndarrays(patch_responses, format_str)\n",
    "# save_named_ndarrays_to_hdf5(named_ndarrays, h5py_file_path, \"w\", verbosity=1)\n",
    "# save_named_ndarrays(named_ndarrays, r\"D:\\temp\", verbosity=1)\n",
    "save_named_ndarrays(named_ndarrays, r\"D:\\temp\\data.hdf5\", verbosity=1)\n",
    "# save_ndarray_groups_to_zip(pig, format_str, zip_file_path)\n",
    "# save_ndarray_groups_to_folder(pig, format_str, folder_path, delete_working_folder=True)"
   ]
  },
  {
   "cell_type": "code",
   "execution_count": null,
   "metadata": {},
   "outputs": [],
   "source": [
    "# named_ndarrays = load_named_ndarrays_from_hdf5(h5py_file_path)\n",
    "# named_ndarrays = list(named_ndarrays)"
   ]
  }
 ],
 "metadata": {
  "kernelspec": {
   "display_name": "dieyepy",
   "language": "python",
   "name": "dieyepy"
  },
  "language_info": {
   "codemirror_mode": {
    "name": "ipython",
    "version": 3
   },
   "file_extension": ".py",
   "mimetype": "text/x-python",
   "name": "python",
   "nbconvert_exporter": "python",
   "pygments_lexer": "ipython3",
   "version": "3.6.8"
  },
  "pycharm": {
   "stem_cell": {
    "cell_type": "raw",
    "metadata": {
     "collapsed": false
    },
    "source": []
   }
  }
 },
 "nbformat": 4,
 "nbformat_minor": 1
}
